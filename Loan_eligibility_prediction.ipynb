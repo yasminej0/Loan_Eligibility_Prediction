{
 "metadata": {
  "kernelspec": {
   "language": "python",
   "display_name": "Python 3",
   "name": "python3"
  },
  "language_info": {
   "name": "python",
   "version": "3.10.13",
   "mimetype": "text/x-python",
   "codemirror_mode": {
    "name": "ipython",
    "version": 3
   },
   "pygments_lexer": "ipython3",
   "nbconvert_exporter": "python",
   "file_extension": ".py"
  },
  "kaggle": {
   "accelerator": "none",
   "dataSources": [
    {
     "sourceId": 1420931,
     "sourceType": "datasetVersion",
     "datasetId": 831855
    }
   ],
   "dockerImageVersionId": 30646,
   "isInternetEnabled": false,
   "language": "python",
   "sourceType": "notebook",
   "isGpuEnabled": false
  }
 },
 "nbformat_minor": 4,
 "nbformat": 4,
 "cells": [
  {
   "cell_type": "code",
   "source": [
    "# This Python 3 environment comes with many helpful analytics libraries installed\n",
    "# It is defined by the kaggle/python Docker image: https://github.com/kaggle/docker-python\n",
    "# For example, here's several helpful packages to load\n",
    "\n",
    "import numpy as np # linear algebra\n",
    "import pandas as pd # data processing, CSV file I/O (e.g. pd.read_csv)\n",
    "\n",
    "# Input data files are available in the read-only \"../input/\" directory\n",
    "# For example, running this (by clicking run or pressing Shift+Enter) will list all files under the input directory\n",
    "\n",
    "import os\n",
    "for dirname, _, filenames in os.walk('/kaggle/input'):\n",
    "    for filename in filenames:\n",
    "        print(os.path.join(dirname, filename))\n",
    "\n",
    "# You can write up to 20GB to the current directory (/kaggle/working/) that gets preserved as output when you create a version using \"Save & Run All\" \n",
    "# You can also write temporary files to /kaggle/temp/, but they won't be saved outside of the current session"
   ],
   "metadata": {
    "_uuid": "8f2839f25d086af736a60e9eeb907d3b93b6e0e5",
    "_cell_guid": "b1076dfc-b9ad-4769-8c92-a6c4dae69d19",
    "execution": {
     "iopub.status.busy": "2024-02-26T12:11:49.263909Z",
     "iopub.execute_input": "2024-02-26T12:11:49.264619Z",
     "iopub.status.idle": "2024-02-26T12:11:50.471723Z",
     "shell.execute_reply.started": "2024-02-26T12:11:49.264576Z",
     "shell.execute_reply": "2024-02-26T12:11:50.470450Z"
    },
    "trusted": true
   },
   "execution_count": 1,
   "outputs": [
    {
     "name": "stdout",
     "text": "/kaggle/input/loan-eligible-dataset/loan-train.csv\n/kaggle/input/loan-eligible-dataset/loan-test.csv\n",
     "output_type": "stream"
    }
   ]
  },
  {
   "cell_type": "code",
   "source": [
    "df_test=pd.read_csv('/kaggle/input/loan-eligible-dataset/loan-test.csv')"
   ],
   "metadata": {
    "execution": {
     "iopub.status.busy": "2024-02-26T12:11:50.473640Z",
     "iopub.execute_input": "2024-02-26T12:11:50.474247Z",
     "iopub.status.idle": "2024-02-26T12:11:50.498257Z",
     "shell.execute_reply.started": "2024-02-26T12:11:50.474205Z",
     "shell.execute_reply": "2024-02-26T12:11:50.497036Z"
    },
    "trusted": true
   },
   "execution_count": 2,
   "outputs": []
  },
  {
   "cell_type": "code",
   "source": [
    "df_train=pd.read_csv('/kaggle/input/loan-eligible-dataset/loan-train.csv')"
   ],
   "metadata": {
    "execution": {
     "iopub.status.busy": "2024-02-26T12:11:50.499865Z",
     "iopub.execute_input": "2024-02-26T12:11:50.500686Z",
     "iopub.status.idle": "2024-02-26T12:11:50.518569Z",
     "shell.execute_reply.started": "2024-02-26T12:11:50.500645Z",
     "shell.execute_reply": "2024-02-26T12:11:50.517336Z"
    },
    "trusted": true
   },
   "execution_count": 3,
   "outputs": []
  },
  {
   "cell_type": "code",
   "source": [
    "df_test.shape"
   ],
   "metadata": {
    "trusted": true
   },
   "execution_count": null,
   "outputs": []
  },
  {
   "cell_type": "code",
   "source": [
    "df_test.isnull().sum()"
   ],
   "metadata": {
    "trusted": true
   },
   "execution_count": null,
   "outputs": []
  },
  {
   "cell_type": "code",
   "source": [
    "df_train.isnull().sum()"
   ],
   "metadata": {
    "trusted": true
   },
   "execution_count": null,
   "outputs": []
  },
  {
   "cell_type": "code",
   "source": [
    "for column in df_train:\n",
    "    print(f'{column}: {df_train[column].unique()}')"
   ],
   "metadata": {
    "trusted": true
   },
   "execution_count": null,
   "outputs": []
  },
  {
   "cell_type": "markdown",
   "source": [
    "## Check column type"
   ],
   "metadata": {}
  },
  {
   "cell_type": "code",
   "source": [
    "df_train.dtypes"
   ],
   "metadata": {
    "trusted": true
   },
   "execution_count": null,
   "outputs": []
  },
  {
   "cell_type": "code",
   "source": [
    "df_train['CoapplicantIncome','Loan_Amount_Term','LoanAmount']=pd.to_numeric(df_train['CoapplicantIncome','Loan_Amount_Term','LoanAmount'])"
   ],
   "metadata": {
    "trusted": true
   },
   "execution_count": null,
   "outputs": []
  },
  {
   "cell_type": "code",
   "source": [
    "df_train.describe()"
   ],
   "metadata": {
    "trusted": true
   },
   "execution_count": null,
   "outputs": []
  },
  {
   "cell_type": "markdown",
   "source": [
    "## NaN values"
   ],
   "metadata": {}
  },
  {
   "cell_type": "code",
   "source": [
    "df_train.isnull().sum()"
   ],
   "metadata": {
    "trusted": true
   },
   "execution_count": null,
   "outputs": []
  },
  {
   "cell_type": "code",
   "source": [
    "df_train['Gender'].fillna(df_train['Gender'].mode()[0], inplace=True)\n",
    "df_train['Self_Employed'].fillna(df_train['Self_Employed'].mode()[0], inplace=True)\n",
    "df_train['Married'].fillna(df_train['Married'].mode()[0], inplace=True)\n",
    "df_train['Dependents'].fillna(df_train['Dependents'].mode()[0], inplace=True)\n",
    "df_train['LoanAmount'].fillna(df_train['LoanAmount'].mean(), inplace=True)\n",
    "df_train['Loan_Amount_Term'].fillna(df_train['Loan_Amount_Term'].mode()[0], inplace=True)\n",
    "df_train['Credit_History'].fillna(df_train['Credit_History'].mode()[0], inplace=True)\n"
   ],
   "metadata": {
    "execution": {
     "iopub.status.busy": "2024-02-26T12:12:47.068942Z",
     "iopub.execute_input": "2024-02-26T12:12:47.069348Z",
     "iopub.status.idle": "2024-02-26T12:12:47.094519Z",
     "shell.execute_reply.started": "2024-02-26T12:12:47.069320Z",
     "shell.execute_reply": "2024-02-26T12:12:47.093141Z"
    },
    "trusted": true
   },
   "execution_count": 4,
   "outputs": [
    {
     "name": "stderr",
     "text": "/tmp/ipykernel_33/3823584675.py:1: FutureWarning: A value is trying to be set on a copy of a DataFrame or Series through chained assignment using an inplace method.\nThe behavior will change in pandas 3.0. This inplace method will never work because the intermediate object on which we are setting values always behaves as a copy.\n\nFor example, when doing 'df[col].method(value, inplace=True)', try using 'df.method({col: value}, inplace=True)' or df[col] = df[col].method(value) instead, to perform the operation inplace on the original object.\n\n\n  df_train['Gender'].fillna(df_train['Gender'].mode()[0], inplace=True)\n/tmp/ipykernel_33/3823584675.py:2: FutureWarning: A value is trying to be set on a copy of a DataFrame or Series through chained assignment using an inplace method.\nThe behavior will change in pandas 3.0. This inplace method will never work because the intermediate object on which we are setting values always behaves as a copy.\n\nFor example, when doing 'df[col].method(value, inplace=True)', try using 'df.method({col: value}, inplace=True)' or df[col] = df[col].method(value) instead, to perform the operation inplace on the original object.\n\n\n  df_train['Self_Employed'].fillna(df_train['Self_Employed'].mode()[0], inplace=True)\n/tmp/ipykernel_33/3823584675.py:3: FutureWarning: A value is trying to be set on a copy of a DataFrame or Series through chained assignment using an inplace method.\nThe behavior will change in pandas 3.0. This inplace method will never work because the intermediate object on which we are setting values always behaves as a copy.\n\nFor example, when doing 'df[col].method(value, inplace=True)', try using 'df.method({col: value}, inplace=True)' or df[col] = df[col].method(value) instead, to perform the operation inplace on the original object.\n\n\n  df_train['Married'].fillna(df_train['Married'].mode()[0], inplace=True)\n/tmp/ipykernel_33/3823584675.py:4: FutureWarning: A value is trying to be set on a copy of a DataFrame or Series through chained assignment using an inplace method.\nThe behavior will change in pandas 3.0. This inplace method will never work because the intermediate object on which we are setting values always behaves as a copy.\n\nFor example, when doing 'df[col].method(value, inplace=True)', try using 'df.method({col: value}, inplace=True)' or df[col] = df[col].method(value) instead, to perform the operation inplace on the original object.\n\n\n  df_train['Dependents'].fillna(df_train['Dependents'].mode()[0], inplace=True)\n/tmp/ipykernel_33/3823584675.py:5: FutureWarning: A value is trying to be set on a copy of a DataFrame or Series through chained assignment using an inplace method.\nThe behavior will change in pandas 3.0. This inplace method will never work because the intermediate object on which we are setting values always behaves as a copy.\n\nFor example, when doing 'df[col].method(value, inplace=True)', try using 'df.method({col: value}, inplace=True)' or df[col] = df[col].method(value) instead, to perform the operation inplace on the original object.\n\n\n  df_train['LoanAmount'].fillna(df_train['LoanAmount'].mean(), inplace=True)\n/tmp/ipykernel_33/3823584675.py:6: FutureWarning: A value is trying to be set on a copy of a DataFrame or Series through chained assignment using an inplace method.\nThe behavior will change in pandas 3.0. This inplace method will never work because the intermediate object on which we are setting values always behaves as a copy.\n\nFor example, when doing 'df[col].method(value, inplace=True)', try using 'df.method({col: value}, inplace=True)' or df[col] = df[col].method(value) instead, to perform the operation inplace on the original object.\n\n\n  df_train['Loan_Amount_Term'].fillna(df_train['Loan_Amount_Term'].mode()[0], inplace=True)\n/tmp/ipykernel_33/3823584675.py:7: FutureWarning: A value is trying to be set on a copy of a DataFrame or Series through chained assignment using an inplace method.\nThe behavior will change in pandas 3.0. This inplace method will never work because the intermediate object on which we are setting values always behaves as a copy.\n\nFor example, when doing 'df[col].method(value, inplace=True)', try using 'df.method({col: value}, inplace=True)' or df[col] = df[col].method(value) instead, to perform the operation inplace on the original object.\n\n\n  df_train['Credit_History'].fillna(df_train['Credit_History'].mode()[0], inplace=True)\n",
     "output_type": "stream"
    }
   ]
  },
  {
   "cell_type": "code",
   "source": [
    "df_train.isnull().sum()"
   ],
   "metadata": {
    "execution": {
     "iopub.status.busy": "2024-02-26T12:13:16.274894Z",
     "iopub.execute_input": "2024-02-26T12:13:16.275299Z",
     "iopub.status.idle": "2024-02-26T12:13:16.288239Z",
     "shell.execute_reply.started": "2024-02-26T12:13:16.275268Z",
     "shell.execute_reply": "2024-02-26T12:13:16.286824Z"
    },
    "trusted": true
   },
   "execution_count": 6,
   "outputs": [
    {
     "execution_count": 6,
     "output_type": "execute_result",
     "data": {
      "text/plain": "Loan_ID              0\nGender               0\nMarried              0\nDependents           0\nEducation            0\nSelf_Employed        0\nApplicantIncome      0\nCoapplicantIncome    0\nLoanAmount           0\nLoan_Amount_Term     0\nCredit_History       0\nProperty_Area        0\nLoan_Status          0\ndtype: int64"
     },
     "metadata": {}
    }
   ]
  },
  {
   "cell_type": "markdown",
   "source": [
    "## EDA"
   ],
   "metadata": {}
  },
  {
   "cell_type": "code",
   "source": [
    "import seaborn as sns\n",
    "import matplotlib.pyplot as plt"
   ],
   "metadata": {
    "execution": {
     "iopub.status.busy": "2024-02-26T12:14:15.105644Z",
     "iopub.execute_input": "2024-02-26T12:14:15.106038Z",
     "iopub.status.idle": "2024-02-26T12:14:15.345395Z",
     "shell.execute_reply.started": "2024-02-26T12:14:15.106008Z",
     "shell.execute_reply": "2024-02-26T12:14:15.344112Z"
    },
    "trusted": true
   },
   "execution_count": 24,
   "outputs": []
  },
  {
   "cell_type": "code",
   "source": [
    "pd.crosstab(df_train['Credit_History'], df_train['Loan_Status'], margins=True)"
   ],
   "metadata": {
    "trusted": true
   },
   "execution_count": null,
   "outputs": []
  },
  {
   "cell_type": "code",
   "source": [
    "df_train.boxplot(column = 'ApplicantIncome')"
   ],
   "metadata": {
    "trusted": true
   },
   "execution_count": null,
   "outputs": []
  },
  {
   "cell_type": "code",
   "source": [
    "df_train['ApplicantIncome'].plot(kind='hist',bins=20)"
   ],
   "metadata": {
    "trusted": true
   },
   "execution_count": null,
   "outputs": []
  },
  {
   "cell_type": "code",
   "source": [
    "df_train.boxplot(column='ApplicantIncome', by=\"Education\")"
   ],
   "metadata": {
    "trusted": true
   },
   "execution_count": null,
   "outputs": []
  },
  {
   "cell_type": "code",
   "source": [
    "df_train['CoapplicantIncome'].plot(kind='hist',bins=20)"
   ],
   "metadata": {
    "trusted": true
   },
   "execution_count": null,
   "outputs": []
  },
  {
   "cell_type": "code",
   "source": [
    "df_train['TotalIncome']=df_train['ApplicantIncome']+df_train['CoapplicantIncome']"
   ],
   "metadata": {
    "execution": {
     "iopub.status.busy": "2024-02-26T12:13:21.680187Z",
     "iopub.execute_input": "2024-02-26T12:13:21.680612Z",
     "iopub.status.idle": "2024-02-26T12:13:21.687483Z",
     "shell.execute_reply.started": "2024-02-26T12:13:21.680578Z",
     "shell.execute_reply": "2024-02-26T12:13:21.686266Z"
    },
    "trusted": true
   },
   "execution_count": 7,
   "outputs": []
  },
  {
   "cell_type": "code",
   "source": [
    "df_train['TotalIncome'].plot(kind='hist',bins=20)"
   ],
   "metadata": {
    "trusted": true
   },
   "execution_count": null,
   "outputs": []
  },
  {
   "cell_type": "markdown",
   "source": [
    "We can see that we have outliers we gonna fix it later on"
   ],
   "metadata": {}
  },
  {
   "cell_type": "code",
   "source": [
    "df_train['LoanAmount'].plot(kind='hist',bins=20)"
   ],
   "metadata": {
    "trusted": true
   },
   "execution_count": null,
   "outputs": []
  },
  {
   "cell_type": "markdown",
   "source": [
    "To fix the outliers we gonna use zscore technique"
   ],
   "metadata": {}
  },
  {
   "cell_type": "code",
   "source": [
    "(df_train['LoanAmount']-df_train['LoanAmount'].mean())/df_train['LoanAmount'].std()"
   ],
   "metadata": {
    "trusted": true
   },
   "execution_count": null,
   "outputs": []
  },
  {
   "cell_type": "code",
   "source": [
    "def zscore(df):\n",
    "    return (df-df.mean())/df.std()"
   ],
   "metadata": {
    "trusted": true
   },
   "execution_count": null,
   "outputs": []
  },
  {
   "cell_type": "code",
   "source": [
    "zscore(df_train['LoanAmount'])"
   ],
   "metadata": {
    "trusted": true
   },
   "execution_count": null,
   "outputs": []
  },
  {
   "cell_type": "code",
   "source": [
    "df_train['LoanAmount'][zscore(df_train['LoanAmount'])<3]"
   ],
   "metadata": {
    "trusted": true
   },
   "execution_count": null,
   "outputs": []
  },
  {
   "cell_type": "code",
   "source": [
    "df_train['LoanAmount'][zscore(df_train['LoanAmount'])<3].plot(kind='hist',bins=20)"
   ],
   "metadata": {
    "trusted": true
   },
   "execution_count": null,
   "outputs": []
  },
  {
   "cell_type": "code",
   "source": [
    "df_train['TotalIncome'][zscore(df_train['TotalIncome'])<3]"
   ],
   "metadata": {
    "trusted": true
   },
   "execution_count": null,
   "outputs": []
  },
  {
   "cell_type": "code",
   "source": [
    "df_train['TotalIncome'][zscore(df_train['TotalIncome'])<3].plot(kind='hist',bins=20)"
   ],
   "metadata": {
    "execution": {
     "iopub.status.busy": "2024-02-26T12:13:03.935408Z",
     "iopub.execute_input": "2024-02-26T12:13:03.935845Z",
     "iopub.status.idle": "2024-02-26T12:13:05.729352Z",
     "shell.execute_reply.started": "2024-02-26T12:13:03.935809Z",
     "shell.execute_reply": "2024-02-26T12:13:05.727888Z"
    },
    "trusted": true
   },
   "execution_count": 5,
   "outputs": [
    {
     "traceback": [
      "\u001B[0;31m---------------------------------------------------------------------------\u001B[0m",
      "\u001B[0;31mKeyError\u001B[0m                                  Traceback (most recent call last)",
      "File \u001B[0;32m/opt/conda/lib/python3.10/site-packages/pandas/core/indexes/base.py:3802\u001B[0m, in \u001B[0;36mIndex.get_loc\u001B[0;34m(self, key)\u001B[0m\n\u001B[1;32m   3801\u001B[0m \u001B[38;5;28;01mtry\u001B[39;00m:\n\u001B[0;32m-> 3802\u001B[0m     \u001B[38;5;28;01mreturn\u001B[39;00m \u001B[38;5;28;43mself\u001B[39;49m\u001B[38;5;241;43m.\u001B[39;49m\u001B[43m_engine\u001B[49m\u001B[38;5;241;43m.\u001B[39;49m\u001B[43mget_loc\u001B[49m\u001B[43m(\u001B[49m\u001B[43mcasted_key\u001B[49m\u001B[43m)\u001B[49m\n\u001B[1;32m   3803\u001B[0m \u001B[38;5;28;01mexcept\u001B[39;00m \u001B[38;5;167;01mKeyError\u001B[39;00m \u001B[38;5;28;01mas\u001B[39;00m err:\n",
      "File \u001B[0;32mindex.pyx:153\u001B[0m, in \u001B[0;36mpandas._libs.index.IndexEngine.get_loc\u001B[0;34m()\u001B[0m\n",
      "File \u001B[0;32mindex.pyx:182\u001B[0m, in \u001B[0;36mpandas._libs.index.IndexEngine.get_loc\u001B[0;34m()\u001B[0m\n",
      "File \u001B[0;32mpandas/_libs/hashtable_class_helper.pxi:7081\u001B[0m, in \u001B[0;36mpandas._libs.hashtable.PyObjectHashTable.get_item\u001B[0;34m()\u001B[0m\n",
      "File \u001B[0;32mpandas/_libs/hashtable_class_helper.pxi:7089\u001B[0m, in \u001B[0;36mpandas._libs.hashtable.PyObjectHashTable.get_item\u001B[0;34m()\u001B[0m\n",
      "\u001B[0;31mKeyError\u001B[0m: 'TotalIncome'",
      "\nThe above exception was the direct cause of the following exception:\n",
      "\u001B[0;31mKeyError\u001B[0m                                  Traceback (most recent call last)",
      "Cell \u001B[0;32mIn[5], line 1\u001B[0m\n\u001B[0;32m----> 1\u001B[0m \u001B[43mdf_train\u001B[49m\u001B[43m[\u001B[49m\u001B[38;5;124;43m'\u001B[39;49m\u001B[38;5;124;43mTotalIncome\u001B[39;49m\u001B[38;5;124;43m'\u001B[39;49m\u001B[43m]\u001B[49m[zscore(df_train[\u001B[38;5;124m'\u001B[39m\u001B[38;5;124mTotalIncome\u001B[39m\u001B[38;5;124m'\u001B[39m])\u001B[38;5;241m<\u001B[39m\u001B[38;5;241m3\u001B[39m]\u001B[38;5;241m.\u001B[39mplot(kind\u001B[38;5;241m=\u001B[39m\u001B[38;5;124m'\u001B[39m\u001B[38;5;124mhist\u001B[39m\u001B[38;5;124m'\u001B[39m,bins\u001B[38;5;241m=\u001B[39m\u001B[38;5;241m20\u001B[39m)\n",
      "File \u001B[0;32m/opt/conda/lib/python3.10/site-packages/pandas/core/frame.py:4090\u001B[0m, in \u001B[0;36mDataFrame.__getitem__\u001B[0;34m(self, key)\u001B[0m\n\u001B[1;32m   4088\u001B[0m \u001B[38;5;28;01mif\u001B[39;00m \u001B[38;5;28mself\u001B[39m\u001B[38;5;241m.\u001B[39mcolumns\u001B[38;5;241m.\u001B[39mnlevels \u001B[38;5;241m>\u001B[39m \u001B[38;5;241m1\u001B[39m:\n\u001B[1;32m   4089\u001B[0m     \u001B[38;5;28;01mreturn\u001B[39;00m \u001B[38;5;28mself\u001B[39m\u001B[38;5;241m.\u001B[39m_getitem_multilevel(key)\n\u001B[0;32m-> 4090\u001B[0m indexer \u001B[38;5;241m=\u001B[39m \u001B[38;5;28;43mself\u001B[39;49m\u001B[38;5;241;43m.\u001B[39;49m\u001B[43mcolumns\u001B[49m\u001B[38;5;241;43m.\u001B[39;49m\u001B[43mget_loc\u001B[49m\u001B[43m(\u001B[49m\u001B[43mkey\u001B[49m\u001B[43m)\u001B[49m\n\u001B[1;32m   4091\u001B[0m \u001B[38;5;28;01mif\u001B[39;00m is_integer(indexer):\n\u001B[1;32m   4092\u001B[0m     indexer \u001B[38;5;241m=\u001B[39m [indexer]\n",
      "File \u001B[0;32m/opt/conda/lib/python3.10/site-packages/pandas/core/indexes/base.py:3809\u001B[0m, in \u001B[0;36mIndex.get_loc\u001B[0;34m(self, key)\u001B[0m\n\u001B[1;32m   3804\u001B[0m     \u001B[38;5;28;01mif\u001B[39;00m \u001B[38;5;28misinstance\u001B[39m(casted_key, \u001B[38;5;28mslice\u001B[39m) \u001B[38;5;129;01mor\u001B[39;00m (\n\u001B[1;32m   3805\u001B[0m         \u001B[38;5;28misinstance\u001B[39m(casted_key, abc\u001B[38;5;241m.\u001B[39mIterable)\n\u001B[1;32m   3806\u001B[0m         \u001B[38;5;129;01mand\u001B[39;00m \u001B[38;5;28many\u001B[39m(\u001B[38;5;28misinstance\u001B[39m(x, \u001B[38;5;28mslice\u001B[39m) \u001B[38;5;28;01mfor\u001B[39;00m x \u001B[38;5;129;01min\u001B[39;00m casted_key)\n\u001B[1;32m   3807\u001B[0m     ):\n\u001B[1;32m   3808\u001B[0m         \u001B[38;5;28;01mraise\u001B[39;00m InvalidIndexError(key)\n\u001B[0;32m-> 3809\u001B[0m     \u001B[38;5;28;01mraise\u001B[39;00m \u001B[38;5;167;01mKeyError\u001B[39;00m(key) \u001B[38;5;28;01mfrom\u001B[39;00m \u001B[38;5;21;01merr\u001B[39;00m\n\u001B[1;32m   3810\u001B[0m \u001B[38;5;28;01mexcept\u001B[39;00m \u001B[38;5;167;01mTypeError\u001B[39;00m:\n\u001B[1;32m   3811\u001B[0m     \u001B[38;5;66;03m# If we have a listlike key, _check_indexing_error will raise\u001B[39;00m\n\u001B[1;32m   3812\u001B[0m     \u001B[38;5;66;03m#  InvalidIndexError. Otherwise we fall through and re-raise\u001B[39;00m\n\u001B[1;32m   3813\u001B[0m     \u001B[38;5;66;03m#  the TypeError.\u001B[39;00m\n\u001B[1;32m   3814\u001B[0m     \u001B[38;5;28mself\u001B[39m\u001B[38;5;241m.\u001B[39m_check_indexing_error(key)\n",
      "\u001B[0;31mKeyError\u001B[0m: 'TotalIncome'"
     ],
     "ename": "KeyError",
     "evalue": "'TotalIncome'",
     "output_type": "error"
    }
   ]
  },
  {
   "cell_type": "code",
   "source": [
    "df_train.boxplot(column='TotalIncome', by=\"Gender\")"
   ],
   "metadata": {
    "trusted": true
   },
   "execution_count": null,
   "outputs": []
  },
  {
   "cell_type": "code",
   "source": [
    "df_train.boxplot(column='TotalIncome', by=\"Self_Employed\")"
   ],
   "metadata": {
    "trusted": true
   },
   "execution_count": null,
   "outputs": []
  },
  {
   "cell_type": "markdown",
   "source": [
    "## Handling categorical data"
   ],
   "metadata": {}
  },
  {
   "cell_type": "code",
   "source": [
    "yes_no_col=['Gender','Married','Education','Self_Employed','Loan_Status']\n",
    "for col in yes_no_col:\n",
    "    df_train[col].replace({'No':0,'Yes':1},inplace=True)\n",
    "    df_train[col].replace({'N':0,'Y':1},inplace=True)\n",
    "    df_train[col].replace({'Female':0,'Male':1},inplace=True)\n",
    "    df_train[col].replace({'Not Graduate':0,'Graduate':1},inplace=True)"
   ],
   "metadata": {
    "execution": {
     "iopub.status.busy": "2024-02-26T12:13:33.224985Z",
     "iopub.execute_input": "2024-02-26T12:13:33.225408Z",
     "iopub.status.idle": "2024-02-26T12:13:33.246318Z",
     "shell.execute_reply.started": "2024-02-26T12:13:33.225378Z",
     "shell.execute_reply": "2024-02-26T12:13:33.244995Z"
    },
    "trusted": true
   },
   "execution_count": 8,
   "outputs": [
    {
     "name": "stderr",
     "text": "/tmp/ipykernel_33/3227570493.py:5: FutureWarning: Downcasting behavior in `replace` is deprecated and will be removed in a future version. To retain the old behavior, explicitly call `result.infer_objects(copy=False)`. To opt-in to the future behavior, set `pd.set_option('future.no_silent_downcasting', True)`\n  df_train[col].replace({'Female':0,'Male':1},inplace=True)\n/tmp/ipykernel_33/3227570493.py:3: FutureWarning: Downcasting behavior in `replace` is deprecated and will be removed in a future version. To retain the old behavior, explicitly call `result.infer_objects(copy=False)`. To opt-in to the future behavior, set `pd.set_option('future.no_silent_downcasting', True)`\n  df_train[col].replace({'No':0,'Yes':1},inplace=True)\n/tmp/ipykernel_33/3227570493.py:3: FutureWarning: A value is trying to be set on a copy of a DataFrame or Series through chained assignment using an inplace method.\nThe behavior will change in pandas 3.0. This inplace method will never work because the intermediate object on which we are setting values always behaves as a copy.\n\nFor example, when doing 'df[col].method(value, inplace=True)', try using 'df.method({col: value}, inplace=True)' or df[col] = df[col].method(value) instead, to perform the operation inplace on the original object.\n\n\n  df_train[col].replace({'No':0,'Yes':1},inplace=True)\n/tmp/ipykernel_33/3227570493.py:6: FutureWarning: Downcasting behavior in `replace` is deprecated and will be removed in a future version. To retain the old behavior, explicitly call `result.infer_objects(copy=False)`. To opt-in to the future behavior, set `pd.set_option('future.no_silent_downcasting', True)`\n  df_train[col].replace({'Not Graduate':0,'Graduate':1},inplace=True)\n/tmp/ipykernel_33/3227570493.py:4: FutureWarning: Downcasting behavior in `replace` is deprecated and will be removed in a future version. To retain the old behavior, explicitly call `result.infer_objects(copy=False)`. To opt-in to the future behavior, set `pd.set_option('future.no_silent_downcasting', True)`\n  df_train[col].replace({'N':0,'Y':1},inplace=True)\n",
     "output_type": "stream"
    }
   ]
  },
  {
   "cell_type": "code",
   "source": [
    "df_train=pd.get_dummies(df_train,columns=['Property_Area'])"
   ],
   "metadata": {
    "execution": {
     "iopub.status.busy": "2024-02-26T12:13:38.238232Z",
     "iopub.execute_input": "2024-02-26T12:13:38.238634Z",
     "iopub.status.idle": "2024-02-26T12:13:38.255016Z",
     "shell.execute_reply.started": "2024-02-26T12:13:38.238605Z",
     "shell.execute_reply": "2024-02-26T12:13:38.253952Z"
    },
    "trusted": true
   },
   "execution_count": 9,
   "outputs": []
  },
  {
   "cell_type": "code",
   "source": [
    "df_train=pd.get_dummies(df_train,columns=['Dependents'])"
   ],
   "metadata": {
    "execution": {
     "iopub.status.busy": "2024-02-26T12:13:39.795935Z",
     "iopub.execute_input": "2024-02-26T12:13:39.796343Z",
     "iopub.status.idle": "2024-02-26T12:13:39.808497Z",
     "shell.execute_reply.started": "2024-02-26T12:13:39.796314Z",
     "shell.execute_reply": "2024-02-26T12:13:39.807114Z"
    },
    "trusted": true
   },
   "execution_count": 10,
   "outputs": []
  },
  {
   "cell_type": "code",
   "source": [
    "df_train=df_train.replace({True:1,False:0})"
   ],
   "metadata": {
    "execution": {
     "iopub.status.busy": "2024-02-26T12:13:40.475130Z",
     "iopub.execute_input": "2024-02-26T12:13:40.475568Z",
     "iopub.status.idle": "2024-02-26T12:13:40.491306Z",
     "shell.execute_reply.started": "2024-02-26T12:13:40.475535Z",
     "shell.execute_reply": "2024-02-26T12:13:40.490205Z"
    },
    "trusted": true
   },
   "execution_count": 11,
   "outputs": [
    {
     "name": "stderr",
     "text": "/tmp/ipykernel_33/610324074.py:1: FutureWarning: Downcasting behavior in `replace` is deprecated and will be removed in a future version. To retain the old behavior, explicitly call `result.infer_objects(copy=False)`. To opt-in to the future behavior, set `pd.set_option('future.no_silent_downcasting', True)`\n  df_train=df_train.replace({True:1,False:0})\n",
     "output_type": "stream"
    }
   ]
  },
  {
   "cell_type": "code",
   "source": [
    "df_train.head(5)"
   ],
   "metadata": {
    "execution": {
     "iopub.status.busy": "2024-02-26T12:13:41.864886Z",
     "iopub.execute_input": "2024-02-26T12:13:41.865323Z",
     "iopub.status.idle": "2024-02-26T12:13:41.892384Z",
     "shell.execute_reply.started": "2024-02-26T12:13:41.865287Z",
     "shell.execute_reply": "2024-02-26T12:13:41.891296Z"
    },
    "trusted": true
   },
   "execution_count": 12,
   "outputs": [
    {
     "execution_count": 12,
     "output_type": "execute_result",
     "data": {
      "text/plain": "    Loan_ID  Gender  Married  Education  Self_Employed  ApplicantIncome  \\\n0  LP001002       1        0          1              0             5849   \n1  LP001003       1        1          1              0             4583   \n2  LP001005       1        1          1              1             3000   \n3  LP001006       1        1          0              0             2583   \n4  LP001008       1        0          1              0             6000   \n\n   CoapplicantIncome  LoanAmount  Loan_Amount_Term  Credit_History  \\\n0                0.0  146.412162             360.0             1.0   \n1             1508.0  128.000000             360.0             1.0   \n2                0.0   66.000000             360.0             1.0   \n3             2358.0  120.000000             360.0             1.0   \n4                0.0  141.000000             360.0             1.0   \n\n   Loan_Status  TotalIncome  Property_Area_Rural  Property_Area_Semiurban  \\\n0            1       5849.0                    0                        0   \n1            0       6091.0                    1                        0   \n2            1       3000.0                    0                        0   \n3            1       4941.0                    0                        0   \n4            1       6000.0                    0                        0   \n\n   Property_Area_Urban  Dependents_0  Dependents_1  Dependents_2  \\\n0                    1             1             0             0   \n1                    0             0             1             0   \n2                    1             1             0             0   \n3                    1             1             0             0   \n4                    1             1             0             0   \n\n   Dependents_3+  \n0              0  \n1              0  \n2              0  \n3              0  \n4              0  ",
      "text/html": "<div>\n<style scoped>\n    .dataframe tbody tr th:only-of-type {\n        vertical-align: middle;\n    }\n\n    .dataframe tbody tr th {\n        vertical-align: top;\n    }\n\n    .dataframe thead th {\n        text-align: right;\n    }\n</style>\n<table border=\"1\" class=\"dataframe\">\n  <thead>\n    <tr style=\"text-align: right;\">\n      <th></th>\n      <th>Loan_ID</th>\n      <th>Gender</th>\n      <th>Married</th>\n      <th>Education</th>\n      <th>Self_Employed</th>\n      <th>ApplicantIncome</th>\n      <th>CoapplicantIncome</th>\n      <th>LoanAmount</th>\n      <th>Loan_Amount_Term</th>\n      <th>Credit_History</th>\n      <th>Loan_Status</th>\n      <th>TotalIncome</th>\n      <th>Property_Area_Rural</th>\n      <th>Property_Area_Semiurban</th>\n      <th>Property_Area_Urban</th>\n      <th>Dependents_0</th>\n      <th>Dependents_1</th>\n      <th>Dependents_2</th>\n      <th>Dependents_3+</th>\n    </tr>\n  </thead>\n  <tbody>\n    <tr>\n      <th>0</th>\n      <td>LP001002</td>\n      <td>1</td>\n      <td>0</td>\n      <td>1</td>\n      <td>0</td>\n      <td>5849</td>\n      <td>0.0</td>\n      <td>146.412162</td>\n      <td>360.0</td>\n      <td>1.0</td>\n      <td>1</td>\n      <td>5849.0</td>\n      <td>0</td>\n      <td>0</td>\n      <td>1</td>\n      <td>1</td>\n      <td>0</td>\n      <td>0</td>\n      <td>0</td>\n    </tr>\n    <tr>\n      <th>1</th>\n      <td>LP001003</td>\n      <td>1</td>\n      <td>1</td>\n      <td>1</td>\n      <td>0</td>\n      <td>4583</td>\n      <td>1508.0</td>\n      <td>128.000000</td>\n      <td>360.0</td>\n      <td>1.0</td>\n      <td>0</td>\n      <td>6091.0</td>\n      <td>1</td>\n      <td>0</td>\n      <td>0</td>\n      <td>0</td>\n      <td>1</td>\n      <td>0</td>\n      <td>0</td>\n    </tr>\n    <tr>\n      <th>2</th>\n      <td>LP001005</td>\n      <td>1</td>\n      <td>1</td>\n      <td>1</td>\n      <td>1</td>\n      <td>3000</td>\n      <td>0.0</td>\n      <td>66.000000</td>\n      <td>360.0</td>\n      <td>1.0</td>\n      <td>1</td>\n      <td>3000.0</td>\n      <td>0</td>\n      <td>0</td>\n      <td>1</td>\n      <td>1</td>\n      <td>0</td>\n      <td>0</td>\n      <td>0</td>\n    </tr>\n    <tr>\n      <th>3</th>\n      <td>LP001006</td>\n      <td>1</td>\n      <td>1</td>\n      <td>0</td>\n      <td>0</td>\n      <td>2583</td>\n      <td>2358.0</td>\n      <td>120.000000</td>\n      <td>360.0</td>\n      <td>1.0</td>\n      <td>1</td>\n      <td>4941.0</td>\n      <td>0</td>\n      <td>0</td>\n      <td>1</td>\n      <td>1</td>\n      <td>0</td>\n      <td>0</td>\n      <td>0</td>\n    </tr>\n    <tr>\n      <th>4</th>\n      <td>LP001008</td>\n      <td>1</td>\n      <td>0</td>\n      <td>1</td>\n      <td>0</td>\n      <td>6000</td>\n      <td>0.0</td>\n      <td>141.000000</td>\n      <td>360.0</td>\n      <td>1.0</td>\n      <td>1</td>\n      <td>6000.0</td>\n      <td>0</td>\n      <td>0</td>\n      <td>1</td>\n      <td>1</td>\n      <td>0</td>\n      <td>0</td>\n      <td>0</td>\n    </tr>\n  </tbody>\n</table>\n</div>"
     },
     "metadata": {}
    }
   ]
  },
  {
   "cell_type": "markdown",
   "source": [
    "## Scaling"
   ],
   "metadata": {}
  },
  {
   "cell_type": "code",
   "source": [
    "from sklearn.preprocessing import MinMaxScaler"
   ],
   "metadata": {
    "execution": {
     "iopub.status.busy": "2024-02-26T12:13:46.026047Z",
     "iopub.execute_input": "2024-02-26T12:13:46.026475Z",
     "iopub.status.idle": "2024-02-26T12:13:46.692752Z",
     "shell.execute_reply.started": "2024-02-26T12:13:46.026444Z",
     "shell.execute_reply": "2024-02-26T12:13:46.691488Z"
    },
    "trusted": true
   },
   "execution_count": 13,
   "outputs": []
  },
  {
   "cell_type": "code",
   "source": [
    "col_to_scale=['ApplicantIncome','CoapplicantIncome','LoanAmount','Loan_Amount_Term','TotalIncome']\n",
    "scaler=MinMaxScaler()\n",
    "df_train[col_to_scale]=scaler.fit_transform(df_train[col_to_scale])\n",
    "df_train.head(4)"
   ],
   "metadata": {
    "execution": {
     "iopub.status.busy": "2024-02-26T12:13:46.694749Z",
     "iopub.execute_input": "2024-02-26T12:13:46.695668Z",
     "iopub.status.idle": "2024-02-26T12:13:46.724348Z",
     "shell.execute_reply.started": "2024-02-26T12:13:46.695631Z",
     "shell.execute_reply": "2024-02-26T12:13:46.723169Z"
    },
    "trusted": true
   },
   "execution_count": 14,
   "outputs": [
    {
     "execution_count": 14,
     "output_type": "execute_result",
     "data": {
      "text/plain": "    Loan_ID  Gender  Married  Education  Self_Employed  ApplicantIncome  \\\n0  LP001002       1        0          1              0         0.070489   \n1  LP001003       1        1          1              0         0.054830   \n2  LP001005       1        1          1              1         0.035250   \n3  LP001006       1        1          0              0         0.030093   \n\n   CoapplicantIncome  LoanAmount  Loan_Amount_Term  Credit_History  \\\n0           0.000000    0.198860           0.74359             1.0   \n1           0.036192    0.172214           0.74359             1.0   \n2           0.000000    0.082489           0.74359             1.0   \n3           0.056592    0.160637           0.74359             1.0   \n\n   Loan_Status  TotalIncome  Property_Area_Rural  Property_Area_Semiurban  \\\n0            1     0.055394                    0                        0   \n1            0     0.058435                    1                        0   \n2            1     0.019583                    0                        0   \n3            1     0.043980                    0                        0   \n\n   Property_Area_Urban  Dependents_0  Dependents_1  Dependents_2  \\\n0                    1             1             0             0   \n1                    0             0             1             0   \n2                    1             1             0             0   \n3                    1             1             0             0   \n\n   Dependents_3+  \n0              0  \n1              0  \n2              0  \n3              0  ",
      "text/html": "<div>\n<style scoped>\n    .dataframe tbody tr th:only-of-type {\n        vertical-align: middle;\n    }\n\n    .dataframe tbody tr th {\n        vertical-align: top;\n    }\n\n    .dataframe thead th {\n        text-align: right;\n    }\n</style>\n<table border=\"1\" class=\"dataframe\">\n  <thead>\n    <tr style=\"text-align: right;\">\n      <th></th>\n      <th>Loan_ID</th>\n      <th>Gender</th>\n      <th>Married</th>\n      <th>Education</th>\n      <th>Self_Employed</th>\n      <th>ApplicantIncome</th>\n      <th>CoapplicantIncome</th>\n      <th>LoanAmount</th>\n      <th>Loan_Amount_Term</th>\n      <th>Credit_History</th>\n      <th>Loan_Status</th>\n      <th>TotalIncome</th>\n      <th>Property_Area_Rural</th>\n      <th>Property_Area_Semiurban</th>\n      <th>Property_Area_Urban</th>\n      <th>Dependents_0</th>\n      <th>Dependents_1</th>\n      <th>Dependents_2</th>\n      <th>Dependents_3+</th>\n    </tr>\n  </thead>\n  <tbody>\n    <tr>\n      <th>0</th>\n      <td>LP001002</td>\n      <td>1</td>\n      <td>0</td>\n      <td>1</td>\n      <td>0</td>\n      <td>0.070489</td>\n      <td>0.000000</td>\n      <td>0.198860</td>\n      <td>0.74359</td>\n      <td>1.0</td>\n      <td>1</td>\n      <td>0.055394</td>\n      <td>0</td>\n      <td>0</td>\n      <td>1</td>\n      <td>1</td>\n      <td>0</td>\n      <td>0</td>\n      <td>0</td>\n    </tr>\n    <tr>\n      <th>1</th>\n      <td>LP001003</td>\n      <td>1</td>\n      <td>1</td>\n      <td>1</td>\n      <td>0</td>\n      <td>0.054830</td>\n      <td>0.036192</td>\n      <td>0.172214</td>\n      <td>0.74359</td>\n      <td>1.0</td>\n      <td>0</td>\n      <td>0.058435</td>\n      <td>1</td>\n      <td>0</td>\n      <td>0</td>\n      <td>0</td>\n      <td>1</td>\n      <td>0</td>\n      <td>0</td>\n    </tr>\n    <tr>\n      <th>2</th>\n      <td>LP001005</td>\n      <td>1</td>\n      <td>1</td>\n      <td>1</td>\n      <td>1</td>\n      <td>0.035250</td>\n      <td>0.000000</td>\n      <td>0.082489</td>\n      <td>0.74359</td>\n      <td>1.0</td>\n      <td>1</td>\n      <td>0.019583</td>\n      <td>0</td>\n      <td>0</td>\n      <td>1</td>\n      <td>1</td>\n      <td>0</td>\n      <td>0</td>\n      <td>0</td>\n    </tr>\n    <tr>\n      <th>3</th>\n      <td>LP001006</td>\n      <td>1</td>\n      <td>1</td>\n      <td>0</td>\n      <td>0</td>\n      <td>0.030093</td>\n      <td>0.056592</td>\n      <td>0.160637</td>\n      <td>0.74359</td>\n      <td>1.0</td>\n      <td>1</td>\n      <td>0.043980</td>\n      <td>0</td>\n      <td>0</td>\n      <td>1</td>\n      <td>1</td>\n      <td>0</td>\n      <td>0</td>\n      <td>0</td>\n    </tr>\n  </tbody>\n</table>\n</div>"
     },
     "metadata": {}
    }
   ]
  },
  {
   "cell_type": "markdown",
   "source": [
    "## Train and Test data split"
   ],
   "metadata": {}
  },
  {
   "cell_type": "code",
   "source": [
    "from sklearn.model_selection import train_test_split"
   ],
   "metadata": {
    "execution": {
     "iopub.status.busy": "2024-02-26T12:13:49.633168Z",
     "iopub.execute_input": "2024-02-26T12:13:49.633542Z",
     "iopub.status.idle": "2024-02-26T12:13:49.756379Z",
     "shell.execute_reply.started": "2024-02-26T12:13:49.633514Z",
     "shell.execute_reply": "2024-02-26T12:13:49.755336Z"
    },
    "trusted": true
   },
   "execution_count": 15,
   "outputs": []
  },
  {
   "cell_type": "code",
   "source": [
    "X=df_train.drop(columns=['Loan_Status','Loan_ID'])\n",
    "y=df_train['Loan_Status']"
   ],
   "metadata": {
    "execution": {
     "iopub.status.busy": "2024-02-26T12:13:50.296533Z",
     "iopub.execute_input": "2024-02-26T12:13:50.297011Z",
     "iopub.status.idle": "2024-02-26T12:13:50.303717Z",
     "shell.execute_reply.started": "2024-02-26T12:13:50.296973Z",
     "shell.execute_reply": "2024-02-26T12:13:50.302753Z"
    },
    "trusted": true
   },
   "execution_count": 16,
   "outputs": []
  },
  {
   "cell_type": "code",
   "source": [
    "X_train,X_test,y_train,y_test=train_test_split(X,y,test_size=0.2,random_state=40)"
   ],
   "metadata": {
    "execution": {
     "iopub.status.busy": "2024-02-26T12:13:50.997562Z",
     "iopub.execute_input": "2024-02-26T12:13:50.997975Z",
     "iopub.status.idle": "2024-02-26T12:13:51.006535Z",
     "shell.execute_reply.started": "2024-02-26T12:13:50.997944Z",
     "shell.execute_reply": "2024-02-26T12:13:51.005254Z"
    },
    "trusted": true
   },
   "execution_count": 17,
   "outputs": []
  },
  {
   "cell_type": "code",
   "source": [
    "X_train.shape"
   ],
   "metadata": {
    "trusted": true
   },
   "execution_count": null,
   "outputs": []
  },
  {
   "cell_type": "markdown",
   "source": [
    "## Training Models"
   ],
   "metadata": {}
  },
  {
   "cell_type": "markdown",
   "source": [
    "### DecisionTree"
   ],
   "metadata": {
    "collapsed": false
   }
  },
  {
   "cell_type": "code",
   "source": [
    "from sklearn.tree import DecisionTreeClassifier"
   ],
   "metadata": {
    "execution": {
     "iopub.status.busy": "2024-02-26T12:13:56.821210Z",
     "iopub.execute_input": "2024-02-26T12:13:56.821623Z",
     "iopub.status.idle": "2024-02-26T12:13:57.030904Z",
     "shell.execute_reply.started": "2024-02-26T12:13:56.821594Z",
     "shell.execute_reply": "2024-02-26T12:13:57.029461Z"
    },
    "trusted": true
   },
   "execution_count": 18,
   "outputs": []
  },
  {
   "cell_type": "code",
   "source": [
    "clf=DecisionTreeClassifier()\n",
    "clf.fit(X_train,y_train)"
   ],
   "metadata": {
    "execution": {
     "iopub.status.busy": "2024-02-26T12:13:57.457421Z",
     "iopub.execute_input": "2024-02-26T12:13:57.457853Z",
     "iopub.status.idle": "2024-02-26T12:13:57.475452Z",
     "shell.execute_reply.started": "2024-02-26T12:13:57.457819Z",
     "shell.execute_reply": "2024-02-26T12:13:57.474360Z"
    },
    "trusted": true
   },
   "execution_count": 19,
   "outputs": [
    {
     "execution_count": 19,
     "output_type": "execute_result",
     "data": {
      "text/plain": "DecisionTreeClassifier()",
      "text/html": "<style>#sk-container-id-1 {color: black;background-color: white;}#sk-container-id-1 pre{padding: 0;}#sk-container-id-1 div.sk-toggleable {background-color: white;}#sk-container-id-1 label.sk-toggleable__label {cursor: pointer;display: block;width: 100%;margin-bottom: 0;padding: 0.3em;box-sizing: border-box;text-align: center;}#sk-container-id-1 label.sk-toggleable__label-arrow:before {content: \"▸\";float: left;margin-right: 0.25em;color: #696969;}#sk-container-id-1 label.sk-toggleable__label-arrow:hover:before {color: black;}#sk-container-id-1 div.sk-estimator:hover label.sk-toggleable__label-arrow:before {color: black;}#sk-container-id-1 div.sk-toggleable__content {max-height: 0;max-width: 0;overflow: hidden;text-align: left;background-color: #f0f8ff;}#sk-container-id-1 div.sk-toggleable__content pre {margin: 0.2em;color: black;border-radius: 0.25em;background-color: #f0f8ff;}#sk-container-id-1 input.sk-toggleable__control:checked~div.sk-toggleable__content {max-height: 200px;max-width: 100%;overflow: auto;}#sk-container-id-1 input.sk-toggleable__control:checked~label.sk-toggleable__label-arrow:before {content: \"▾\";}#sk-container-id-1 div.sk-estimator input.sk-toggleable__control:checked~label.sk-toggleable__label {background-color: #d4ebff;}#sk-container-id-1 div.sk-label input.sk-toggleable__control:checked~label.sk-toggleable__label {background-color: #d4ebff;}#sk-container-id-1 input.sk-hidden--visually {border: 0;clip: rect(1px 1px 1px 1px);clip: rect(1px, 1px, 1px, 1px);height: 1px;margin: -1px;overflow: hidden;padding: 0;position: absolute;width: 1px;}#sk-container-id-1 div.sk-estimator {font-family: monospace;background-color: #f0f8ff;border: 1px dotted black;border-radius: 0.25em;box-sizing: border-box;margin-bottom: 0.5em;}#sk-container-id-1 div.sk-estimator:hover {background-color: #d4ebff;}#sk-container-id-1 div.sk-parallel-item::after {content: \"\";width: 100%;border-bottom: 1px solid gray;flex-grow: 1;}#sk-container-id-1 div.sk-label:hover label.sk-toggleable__label {background-color: #d4ebff;}#sk-container-id-1 div.sk-serial::before {content: \"\";position: absolute;border-left: 1px solid gray;box-sizing: border-box;top: 0;bottom: 0;left: 50%;z-index: 0;}#sk-container-id-1 div.sk-serial {display: flex;flex-direction: column;align-items: center;background-color: white;padding-right: 0.2em;padding-left: 0.2em;position: relative;}#sk-container-id-1 div.sk-item {position: relative;z-index: 1;}#sk-container-id-1 div.sk-parallel {display: flex;align-items: stretch;justify-content: center;background-color: white;position: relative;}#sk-container-id-1 div.sk-item::before, #sk-container-id-1 div.sk-parallel-item::before {content: \"\";position: absolute;border-left: 1px solid gray;box-sizing: border-box;top: 0;bottom: 0;left: 50%;z-index: -1;}#sk-container-id-1 div.sk-parallel-item {display: flex;flex-direction: column;z-index: 1;position: relative;background-color: white;}#sk-container-id-1 div.sk-parallel-item:first-child::after {align-self: flex-end;width: 50%;}#sk-container-id-1 div.sk-parallel-item:last-child::after {align-self: flex-start;width: 50%;}#sk-container-id-1 div.sk-parallel-item:only-child::after {width: 0;}#sk-container-id-1 div.sk-dashed-wrapped {border: 1px dashed gray;margin: 0 0.4em 0.5em 0.4em;box-sizing: border-box;padding-bottom: 0.4em;background-color: white;}#sk-container-id-1 div.sk-label label {font-family: monospace;font-weight: bold;display: inline-block;line-height: 1.2em;}#sk-container-id-1 div.sk-label-container {text-align: center;}#sk-container-id-1 div.sk-container {/* jupyter's `normalize.less` sets `[hidden] { display: none; }` but bootstrap.min.css set `[hidden] { display: none !important; }` so we also need the `!important` here to be able to override the default hidden behavior on the sphinx rendered scikit-learn.org. See: https://github.com/scikit-learn/scikit-learn/issues/21755 */display: inline-block !important;position: relative;}#sk-container-id-1 div.sk-text-repr-fallback {display: none;}</style><div id=\"sk-container-id-1\" class=\"sk-top-container\"><div class=\"sk-text-repr-fallback\"><pre>DecisionTreeClassifier()</pre><b>In a Jupyter environment, please rerun this cell to show the HTML representation or trust the notebook. <br />On GitHub, the HTML representation is unable to render, please try loading this page with nbviewer.org.</b></div><div class=\"sk-container\" hidden><div class=\"sk-item\"><div class=\"sk-estimator sk-toggleable\"><input class=\"sk-toggleable__control sk-hidden--visually\" id=\"sk-estimator-id-1\" type=\"checkbox\" checked><label for=\"sk-estimator-id-1\" class=\"sk-toggleable__label sk-toggleable__label-arrow\">DecisionTreeClassifier</label><div class=\"sk-toggleable__content\"><pre>DecisionTreeClassifier()</pre></div></div></div></div></div>"
     },
     "metadata": {}
    }
   ]
  },
  {
   "cell_type": "code",
   "source": [
    "from sklearn import tree"
   ],
   "metadata": {
    "trusted": true
   },
   "execution_count": null,
   "outputs": []
  },
  {
   "cell_type": "code",
   "source": [
    "tree.plot_tree(clf)"
   ],
   "metadata": {
    "trusted": true
   },
   "execution_count": null,
   "outputs": []
  },
  {
   "cell_type": "code",
   "source": [
    "y_pred=clf.predict(X_test)"
   ],
   "metadata": {
    "execution": {
     "iopub.status.busy": "2024-02-26T12:14:02.171842Z",
     "iopub.execute_input": "2024-02-26T12:14:02.172277Z",
     "iopub.status.idle": "2024-02-26T12:14:02.180227Z",
     "shell.execute_reply.started": "2024-02-26T12:14:02.172243Z",
     "shell.execute_reply": "2024-02-26T12:14:02.179009Z"
    },
    "trusted": true
   },
   "execution_count": 20,
   "outputs": []
  },
  {
   "cell_type": "code",
   "source": [
    "y_test"
   ],
   "metadata": {
    "trusted": true
   },
   "execution_count": null,
   "outputs": []
  },
  {
   "cell_type": "code",
   "source": [
    "from sklearn.metrics import classification_report,confusion_matrix"
   ],
   "metadata": {
    "execution": {
     "iopub.status.busy": "2024-02-26T12:14:06.861315Z",
     "iopub.execute_input": "2024-02-26T12:14:06.861747Z",
     "iopub.status.idle": "2024-02-26T12:14:06.866999Z",
     "shell.execute_reply.started": "2024-02-26T12:14:06.861717Z",
     "shell.execute_reply": "2024-02-26T12:14:06.865764Z"
    },
    "trusted": true
   },
   "execution_count": 21,
   "outputs": []
  },
  {
   "cell_type": "code",
   "source": [
    "cr=classification_report(y_test,y_pred)"
   ],
   "metadata": {
    "execution": {
     "iopub.status.busy": "2024-02-26T12:14:07.494537Z",
     "iopub.execute_input": "2024-02-26T12:14:07.494978Z",
     "iopub.status.idle": "2024-02-26T12:14:07.510650Z",
     "shell.execute_reply.started": "2024-02-26T12:14:07.494944Z",
     "shell.execute_reply": "2024-02-26T12:14:07.509515Z"
    },
    "trusted": true
   },
   "execution_count": 22,
   "outputs": []
  },
  {
   "cell_type": "code",
   "source": [
    "sns.heatmap(confusion_matrix(y_test,y_pred),fmt='d',annot=True)\n",
    "plt.xlabel('Predicted')\n",
    "plt.ylabel('Truth')"
   ],
   "metadata": {
    "execution": {
     "iopub.status.busy": "2024-02-26T12:14:20.646466Z",
     "iopub.execute_input": "2024-02-26T12:14:20.646880Z",
     "iopub.status.idle": "2024-02-26T12:14:20.930577Z",
     "shell.execute_reply.started": "2024-02-26T12:14:20.646848Z",
     "shell.execute_reply": "2024-02-26T12:14:20.929512Z"
    },
    "trusted": true
   },
   "execution_count": 25,
   "outputs": [
    {
     "execution_count": 25,
     "output_type": "execute_result",
     "data": {
      "text/plain": "Text(50.722222222222214, 0.5, 'Truth')"
     },
     "metadata": {}
    },
    {
     "output_type": "display_data",
     "data": {
      "text/plain": "<Figure size 640x480 with 2 Axes>",
      "image/png": "[encoded data removed]"
     },
     "metadata": {}
    }
   ]
  },
  {
   "cell_type": "code",
   "source": [
    "print(cr)"
   ],
   "metadata": {
    "execution": {
     "iopub.status.busy": "2024-02-26T12:14:31.112112Z",
     "iopub.execute_input": "2024-02-26T12:14:31.112608Z",
     "iopub.status.idle": "2024-02-26T12:14:31.119603Z",
     "shell.execute_reply.started": "2024-02-26T12:14:31.112572Z",
     "shell.execute_reply": "2024-02-26T12:14:31.117974Z"
    },
    "trusted": true
   },
   "execution_count": 26,
   "outputs": [
    {
     "name": "stdout",
     "text": "              precision    recall  f1-score   support\n\n           0       0.42      0.52      0.46        31\n           1       0.82      0.76      0.79        92\n\n    accuracy                           0.70       123\n   macro avg       0.62      0.64      0.63       123\nweighted avg       0.72      0.70      0.71       123\n\n",
     "output_type": "stream"
    }
   ]
  },
  {
   "cell_type": "markdown",
   "source": [
    "### GaussianNB"
   ],
   "metadata": {
    "collapsed": false
   }
  },
  {
   "cell_type": "code",
   "source": [
    "from sklearn.naive_bayes import GaussianNB\n",
    "gnb = GaussianNB()\n",
    "y_pred2 = gnb.fit(X_train, y_train).predict(X_test)"
   ],
   "metadata": {
    "execution": {
     "iopub.status.busy": "2024-02-26T12:14:34.915138Z",
     "iopub.execute_input": "2024-02-26T12:14:34.915537Z",
     "iopub.status.idle": "2024-02-26T12:14:34.930820Z",
     "shell.execute_reply.started": "2024-02-26T12:14:34.915508Z",
     "shell.execute_reply": "2024-02-26T12:14:34.929717Z"
    },
    "trusted": true
   },
   "execution_count": 27,
   "outputs": []
  },
  {
   "cell_type": "code",
   "source": [
    "print(classification_report(y_test,y_pred2))"
   ],
   "metadata": {
    "execution": {
     "iopub.status.busy": "2024-02-26T12:14:36.629724Z",
     "iopub.execute_input": "2024-02-26T12:14:36.630428Z",
     "iopub.status.idle": "2024-02-26T12:14:36.646458Z",
     "shell.execute_reply.started": "2024-02-26T12:14:36.630395Z",
     "shell.execute_reply": "2024-02-26T12:14:36.645030Z"
    },
    "trusted": true
   },
   "execution_count": 28,
   "outputs": [
    {
     "name": "stdout",
     "text": "              precision    recall  f1-score   support\n\n           0       0.80      0.39      0.52        31\n           1       0.82      0.97      0.89        92\n\n    accuracy                           0.82       123\n   macro avg       0.81      0.68      0.71       123\nweighted avg       0.82      0.82      0.80       123\n\n",
     "output_type": "stream"
    }
   ]
  },
  {
   "cell_type": "code",
   "source": [
    "cm=confusion_matrix(y_test,y_pred2)"
   ],
   "metadata": {
    "execution": {
     "iopub.status.busy": "2024-02-26T12:14:41.249504Z",
     "iopub.execute_input": "2024-02-26T12:14:41.249903Z",
     "iopub.status.idle": "2024-02-26T12:14:41.256741Z",
     "shell.execute_reply.started": "2024-02-26T12:14:41.249866Z",
     "shell.execute_reply": "2024-02-26T12:14:41.255642Z"
    },
    "trusted": true
   },
   "execution_count": 29,
   "outputs": []
  },
  {
   "cell_type": "code",
   "source": [
    "sns.heatmap(cm,fmt='d',annot=True)\n",
    "plt.xlabel('Predicted')\n",
    "plt.ylabel('Truth')"
   ],
   "metadata": {
    "execution": {
     "iopub.status.busy": "2024-02-26T12:14:41.590612Z",
     "iopub.execute_input": "2024-02-26T12:14:41.591022Z",
     "iopub.status.idle": "2024-02-26T12:14:41.859599Z",
     "shell.execute_reply.started": "2024-02-26T12:14:41.590994Z",
     "shell.execute_reply": "2024-02-26T12:14:41.858462Z"
    },
    "trusted": true
   },
   "execution_count": 30,
   "outputs": [
    {
     "execution_count": 30,
     "output_type": "execute_result",
     "data": {
      "text/plain": "Text(50.722222222222214, 0.5, 'Truth')"
     },
     "metadata": {}
    },
    {
     "output_type": "display_data",
     "data": {
      "text/plain": "<Figure size 640x480 with 2 Axes>",
      "image/png": "[encoded data removed]"
     },
     "metadata": {}
    }
   ]
  },
  {
   "cell_type": "markdown",
   "source": [
    "### Logistic Regression"
   ],
   "metadata": {
    "collapsed": false
   }
  },
  {
   "cell_type": "code",
   "source": [
    "from sklearn.linear_model import LogisticRegression\n",
    "lr = LogisticRegression(random_state=0).fit(X_train, y_train)\n",
    "y_pred3=clf.predict(X_test)"
   ],
   "metadata": {
    "execution": {
     "iopub.status.busy": "2024-02-26T12:15:22.239661Z",
     "iopub.execute_input": "2024-02-26T12:15:22.240071Z",
     "iopub.status.idle": "2024-02-26T12:15:22.261801Z",
     "shell.execute_reply.started": "2024-02-26T12:15:22.240028Z",
     "shell.execute_reply": "2024-02-26T12:15:22.260752Z"
    },
    "trusted": true
   },
   "execution_count": 32,
   "outputs": []
  },
  {
   "cell_type": "code",
   "source": [
    "print(classification_report(y_test,y_pred3))"
   ],
   "metadata": {
    "execution": {
     "iopub.status.busy": "2024-02-26T12:16:11.419677Z",
     "iopub.execute_input": "2024-02-26T12:16:11.420079Z",
     "iopub.status.idle": "2024-02-26T12:16:11.437145Z",
     "shell.execute_reply.started": "2024-02-26T12:16:11.420027Z",
     "shell.execute_reply": "2024-02-26T12:16:11.435069Z"
    },
    "trusted": true
   },
   "execution_count": 35,
   "outputs": [
    {
     "name": "stdout",
     "text": "              precision    recall  f1-score   support\n\n           0       0.42      0.52      0.46        31\n           1       0.82      0.76      0.79        92\n\n    accuracy                           0.70       123\n   macro avg       0.62      0.64      0.63       123\nweighted avg       0.72      0.70      0.71       123\n\n",
     "output_type": "stream"
    }
   ]
  },
  {
   "cell_type": "code",
   "source": [
    "sns.heatmap(confusion_matrix(y_test,y_pred3),fmt='d',annot=True)\n",
    "plt.xlabel('Predicted')\n",
    "plt.ylabel('Truth')"
   ],
   "metadata": {
    "execution": {
     "iopub.status.busy": "2024-02-26T12:15:37.737195Z",
     "iopub.execute_input": "2024-02-26T12:15:37.737814Z",
     "iopub.status.idle": "2024-02-26T12:15:37.985414Z",
     "shell.execute_reply.started": "2024-02-26T12:15:37.737783Z",
     "shell.execute_reply": "2024-02-26T12:15:37.984576Z"
    },
    "trusted": true
   },
   "execution_count": 34,
   "outputs": [
    {
     "execution_count": 34,
     "output_type": "execute_result",
     "data": {
      "text/plain": "Text(50.722222222222214, 0.5, 'Truth')"
     },
     "metadata": {}
    },
    {
     "output_type": "display_data",
     "data": {
      "text/plain": "<Figure size 640x480 with 2 Axes>",
      "image/png": "[encoded data removed]"
     },
     "metadata": {}
    }
   ]
  },
  {
   "cell_type": "markdown",
   "source": [
    "### Random Forest Classifier"
   ],
   "metadata": {
    "collapsed": false
   }
  },
  {
   "cell_type": "code",
   "source": [
    "from sklearn.ensemble import RandomForestClassifier\n",
    "rf=RandomForestClassifier(n_estimators=100\n",
    "                          ,oob_score=True,\n",
    "                         max_samples=0.8,\n",
    "                         random_state=0)\n",
    "rf.fit(X_train,y_train)\n",
    "rf.oob_score_"
   ],
   "metadata": {
    "execution": {
     "iopub.status.busy": "2024-02-26T12:29:39.927799Z",
     "iopub.execute_input": "2024-02-26T12:29:39.928234Z",
     "iopub.status.idle": "2024-02-26T12:29:40.291757Z",
     "shell.execute_reply.started": "2024-02-26T12:29:39.928203Z",
     "shell.execute_reply": "2024-02-26T12:29:40.290418Z"
    },
    "trusted": true
   },
   "execution_count": 42,
   "outputs": [
    {
     "execution_count": 42,
     "output_type": "execute_result",
     "data": {
      "text/plain": "0.790224032586558"
     },
     "metadata": {}
    }
   ]
  },
  {
   "cell_type": "code",
   "source": [
    "y_pred4=rf.predict(X_test)"
   ],
   "metadata": {
    "execution": {
     "iopub.status.busy": "2024-02-26T12:29:47.036951Z",
     "iopub.execute_input": "2024-02-26T12:29:47.037538Z",
     "iopub.status.idle": "2024-02-26T12:29:47.057681Z",
     "shell.execute_reply.started": "2024-02-26T12:29:47.037497Z",
     "shell.execute_reply": "2024-02-26T12:29:47.056456Z"
    },
    "trusted": true
   },
   "execution_count": 43,
   "outputs": []
  },
  {
   "cell_type": "code",
   "source": [
    "sns.heatmap(confusion_matrix(y_test,y_pred4),fmt='d',annot=True)\n",
    "plt.xlabel('Predicted')\n",
    "plt.ylabel('Truth')"
   ],
   "metadata": {
    "execution": {
     "iopub.status.busy": "2024-02-26T13:14:09.016630Z",
     "iopub.execute_input": "2024-02-26T13:14:09.017132Z",
     "iopub.status.idle": "2024-02-26T13:14:09.293114Z",
     "shell.execute_reply.started": "2024-02-26T13:14:09.017086Z",
     "shell.execute_reply": "2024-02-26T13:14:09.292151Z"
    },
    "trusted": true
   },
   "execution_count": 103,
   "outputs": [
    {
     "execution_count": 103,
     "output_type": "execute_result",
     "data": {
      "text/plain": "Text(50.722222222222214, 0.5, 'Truth')"
     },
     "metadata": {}
    },
    {
     "output_type": "display_data",
     "data": {
      "text/plain": "<Figure size 640x480 with 2 Axes>",
      "image/png": "[encoded data removed]"
     },
     "metadata": {}
    }
   ]
  },
  {
   "cell_type": "code",
   "source": [
    "print(classification_report(y_test,y_pred4))"
   ],
   "metadata": {
    "execution": {
     "iopub.status.busy": "2024-02-26T13:14:18.406414Z",
     "iopub.execute_input": "2024-02-26T13:14:18.406818Z",
     "iopub.status.idle": "2024-02-26T13:14:18.425427Z",
     "shell.execute_reply.started": "2024-02-26T13:14:18.406788Z",
     "shell.execute_reply": "2024-02-26T13:14:18.424019Z"
    },
    "trusted": true
   },
   "execution_count": 104,
   "outputs": [
    {
     "name": "stdout",
     "text": "              precision    recall  f1-score   support\n\n           0       0.63      0.39      0.48        31\n           1       0.82      0.92      0.87        92\n\n    accuracy                           0.79       123\n   macro avg       0.72      0.66      0.67       123\nweighted avg       0.77      0.79      0.77       123\n\n",
     "output_type": "stream"
    }
   ]
  },
  {
   "cell_type": "markdown",
   "source": [
    "### SVC"
   ],
   "metadata": {
    "collapsed": false
   }
  },
  {
   "cell_type": "raw",
   "source": [
    "print(classification_report(y_test,y_pred4))"
   ],
   "metadata": {
    "execution": {
     "iopub.status.busy": "2024-02-26T12:30:04.026357Z",
     "iopub.execute_input": "2024-02-26T12:30:04.026775Z",
     "iopub.status.idle": "2024-02-26T12:30:04.044602Z",
     "shell.execute_reply.started": "2024-02-26T12:30:04.026746Z",
     "shell.execute_reply": "2024-02-26T12:30:04.043410Z"
    }
   }
  },
  {
   "cell_type": "code",
   "source": [
    "from sklearn.svm import SVC\n",
    "svc=SVC(kernel='linear',gamma='scale',C=1)\n",
    "svc.fit(X_train,y_train)"
   ],
   "metadata": {
    "execution": {
     "iopub.status.busy": "2024-02-26T13:07:54.770307Z",
     "iopub.execute_input": "2024-02-26T13:07:54.770730Z",
     "iopub.status.idle": "2024-02-26T13:07:54.791250Z",
     "shell.execute_reply.started": "2024-02-26T13:07:54.770702Z",
     "shell.execute_reply": "2024-02-26T13:07:54.789832Z"
    },
    "trusted": true
   },
   "execution_count": 97,
   "outputs": [
    {
     "execution_count": 97,
     "output_type": "execute_result",
     "data": {
      "text/plain": "SVC(C=1, kernel='linear')",
      "text/html": "<style>#sk-container-id-6 {color: black;background-color: white;}#sk-container-id-6 pre{padding: 0;}#sk-container-id-6 div.sk-toggleable {background-color: white;}#sk-container-id-6 label.sk-toggleable__label {cursor: pointer;display: block;width: 100%;margin-bottom: 0;padding: 0.3em;box-sizing: border-box;text-align: center;}#sk-container-id-6 label.sk-toggleable__label-arrow:before {content: \"▸\";float: left;margin-right: 0.25em;color: #696969;}#sk-container-id-6 label.sk-toggleable__label-arrow:hover:before {color: black;}#sk-container-id-6 div.sk-estimator:hover label.sk-toggleable__label-arrow:before {color: black;}#sk-container-id-6 div.sk-toggleable__content {max-height: 0;max-width: 0;overflow: hidden;text-align: left;background-color: #f0f8ff;}#sk-container-id-6 div.sk-toggleable__content pre {margin: 0.2em;color: black;border-radius: 0.25em;background-color: #f0f8ff;}#sk-container-id-6 input.sk-toggleable__control:checked~div.sk-toggleable__content {max-height: 200px;max-width: 100%;overflow: auto;}#sk-container-id-6 input.sk-toggleable__control:checked~label.sk-toggleable__label-arrow:before {content: \"▾\";}#sk-container-id-6 div.sk-estimator input.sk-toggleable__control:checked~label.sk-toggleable__label {background-color: #d4ebff;}#sk-container-id-6 div.sk-label input.sk-toggleable__control:checked~label.sk-toggleable__label {background-color: #d4ebff;}#sk-container-id-6 input.sk-hidden--visually {border: 0;clip: rect(1px 1px 1px 1px);clip: rect(1px, 1px, 1px, 1px);height: 1px;margin: -1px;overflow: hidden;padding: 0;position: absolute;width: 1px;}#sk-container-id-6 div.sk-estimator {font-family: monospace;background-color: #f0f8ff;border: 1px dotted black;border-radius: 0.25em;box-sizing: border-box;margin-bottom: 0.5em;}#sk-container-id-6 div.sk-estimator:hover {background-color: #d4ebff;}#sk-container-id-6 div.sk-parallel-item::after {content: \"\";width: 100%;border-bottom: 1px solid gray;flex-grow: 1;}#sk-container-id-6 div.sk-label:hover label.sk-toggleable__label {background-color: #d4ebff;}#sk-container-id-6 div.sk-serial::before {content: \"\";position: absolute;border-left: 1px solid gray;box-sizing: border-box;top: 0;bottom: 0;left: 50%;z-index: 0;}#sk-container-id-6 div.sk-serial {display: flex;flex-direction: column;align-items: center;background-color: white;padding-right: 0.2em;padding-left: 0.2em;position: relative;}#sk-container-id-6 div.sk-item {position: relative;z-index: 1;}#sk-container-id-6 div.sk-parallel {display: flex;align-items: stretch;justify-content: center;background-color: white;position: relative;}#sk-container-id-6 div.sk-item::before, #sk-container-id-6 div.sk-parallel-item::before {content: \"\";position: absolute;border-left: 1px solid gray;box-sizing: border-box;top: 0;bottom: 0;left: 50%;z-index: -1;}#sk-container-id-6 div.sk-parallel-item {display: flex;flex-direction: column;z-index: 1;position: relative;background-color: white;}#sk-container-id-6 div.sk-parallel-item:first-child::after {align-self: flex-end;width: 50%;}#sk-container-id-6 div.sk-parallel-item:last-child::after {align-self: flex-start;width: 50%;}#sk-container-id-6 div.sk-parallel-item:only-child::after {width: 0;}#sk-container-id-6 div.sk-dashed-wrapped {border: 1px dashed gray;margin: 0 0.4em 0.5em 0.4em;box-sizing: border-box;padding-bottom: 0.4em;background-color: white;}#sk-container-id-6 div.sk-label label {font-family: monospace;font-weight: bold;display: inline-block;line-height: 1.2em;}#sk-container-id-6 div.sk-label-container {text-align: center;}#sk-container-id-6 div.sk-container {/* jupyter's `normalize.less` sets `[hidden] { display: none; }` but bootstrap.min.css set `[hidden] { display: none !important; }` so we also need the `!important` here to be able to override the default hidden behavior on the sphinx rendered scikit-learn.org. See: https://github.com/scikit-learn/scikit-learn/issues/21755 */display: inline-block !important;position: relative;}#sk-container-id-6 div.sk-text-repr-fallback {display: none;}</style><div id=\"sk-container-id-6\" class=\"sk-top-container\"><div class=\"sk-text-repr-fallback\"><pre>SVC(C=1, kernel=&#x27;linear&#x27;)</pre><b>In a Jupyter environment, please rerun this cell to show the HTML representation or trust the notebook. <br />On GitHub, the HTML representation is unable to render, please try loading this page with nbviewer.org.</b></div><div class=\"sk-container\" hidden><div class=\"sk-item\"><div class=\"sk-estimator sk-toggleable\"><input class=\"sk-toggleable__control sk-hidden--visually\" id=\"sk-estimator-id-10\" type=\"checkbox\" checked><label for=\"sk-estimator-id-10\" class=\"sk-toggleable__label sk-toggleable__label-arrow\">SVC</label><div class=\"sk-toggleable__content\"><pre>SVC(C=1, kernel=&#x27;linear&#x27;)</pre></div></div></div></div></div>"
     },
     "metadata": {}
    }
   ]
  },
  {
   "cell_type": "code",
   "source": [
    "y_pred5=svc.predict(X_test)"
   ],
   "metadata": {
    "execution": {
     "iopub.status.busy": "2024-02-26T13:07:56.411418Z",
     "iopub.execute_input": "2024-02-26T13:07:56.412132Z",
     "iopub.status.idle": "2024-02-26T13:07:56.420802Z",
     "shell.execute_reply.started": "2024-02-26T13:07:56.412094Z",
     "shell.execute_reply": "2024-02-26T13:07:56.419416Z"
    },
    "trusted": true
   },
   "execution_count": 98,
   "outputs": []
  },
  {
   "cell_type": "code",
   "source": [
    "print(classification_report(y_test,y_pred5))"
   ],
   "metadata": {
    "execution": {
     "iopub.status.busy": "2024-02-26T13:07:59.272221Z",
     "iopub.execute_input": "2024-02-26T13:07:59.272616Z",
     "iopub.status.idle": "2024-02-26T13:07:59.288162Z",
     "shell.execute_reply.started": "2024-02-26T13:07:59.272588Z",
     "shell.execute_reply": "2024-02-26T13:07:59.287174Z"
    },
    "trusted": true
   },
   "execution_count": 99,
   "outputs": [
    {
     "name": "stdout",
     "text": "              precision    recall  f1-score   support\n\n           0       0.92      0.39      0.55        31\n           1       0.83      0.99      0.90        92\n\n    accuracy                           0.84       123\n   macro avg       0.88      0.69      0.72       123\nweighted avg       0.85      0.84      0.81       123\n\n",
     "output_type": "stream"
    }
   ]
  },
  {
   "cell_type": "code",
   "source": [
    "sns.heatmap(confusion_matrix(y_test,y_pred5),fmt='d',annot=True)\n",
    "plt.xlabel('Predicted')\n",
    "plt.ylabel('Truth')"
   ],
   "metadata": {
    "execution": {
     "iopub.status.busy": "2024-02-26T13:08:05.119939Z",
     "iopub.execute_input": "2024-02-26T13:08:05.120345Z",
     "iopub.status.idle": "2024-02-26T13:08:05.402304Z",
     "shell.execute_reply.started": "2024-02-26T13:08:05.120317Z",
     "shell.execute_reply": "2024-02-26T13:08:05.401114Z"
    },
    "trusted": true
   },
   "execution_count": 100,
   "outputs": [
    {
     "execution_count": 100,
     "output_type": "execute_result",
     "data": {
      "text/plain": "Text(50.722222222222214, 0.5, 'Truth')"
     },
     "metadata": {}
    },
    {
     "output_type": "display_data",
     "data": {
      "text/plain": "<Figure size 640x480 with 2 Axes>",
      "image/png": "[encoded data removed]"
     },
     "metadata": {}
    }
   ]
  },
  {
   "cell_type": "markdown",
   "source": [
    "## Hyperparameter Tunning"
   ],
   "metadata": {}
  },
  {
   "cell_type": "markdown",
   "source": [
    "##### We gonna do hyperparameter tunning on RandomForest and SVC models because they have the best scores"
   ],
   "metadata": {
    "collapsed": false
   }
  },
  {
   "cell_type": "code",
   "source": [
    "from sklearn.model_selection import GridSearchCV"
   ],
   "metadata": {
    "execution": {
     "iopub.status.busy": "2024-02-26T12:36:59.909464Z",
     "iopub.execute_input": "2024-02-26T12:36:59.909884Z",
     "iopub.status.idle": "2024-02-26T12:36:59.914328Z",
     "shell.execute_reply.started": "2024-02-26T12:36:59.909855Z",
     "shell.execute_reply": "2024-02-26T12:36:59.913476Z"
    },
    "trusted": true
   },
   "execution_count": 55,
   "outputs": []
  },
  {
   "cell_type": "code",
   "source": [
    "gs_rf=GridSearchCV(RandomForestClassifier(),{'n_estimators':(100,120,150)},cv=6).fit(X_train,y_train)\n"
   ],
   "metadata": {
    "execution": {
     "iopub.status.busy": "2024-02-26T13:06:37.655918Z",
     "iopub.execute_input": "2024-02-26T13:06:37.656364Z",
     "iopub.status.idle": "2024-02-26T13:06:44.520397Z",
     "shell.execute_reply.started": "2024-02-26T13:06:37.656330Z",
     "shell.execute_reply": "2024-02-26T13:06:44.519081Z"
    },
    "trusted": true
   },
   "execution_count": 89,
   "outputs": []
  },
  {
   "cell_type": "code",
   "source": [
    "gs_rf.predict(X_test)"
   ],
   "metadata": {
    "execution": {
     "iopub.status.busy": "2024-02-26T12:48:40.927518Z",
     "iopub.execute_input": "2024-02-26T12:48:40.927934Z",
     "iopub.status.idle": "2024-02-26T12:48:40.958649Z",
     "shell.execute_reply.started": "2024-02-26T12:48:40.927904Z",
     "shell.execute_reply": "2024-02-26T12:48:40.957395Z"
    },
    "trusted": true
   },
   "execution_count": 62,
   "outputs": [
    {
     "execution_count": 62,
     "output_type": "execute_result",
     "data": {
      "text/plain": "array([1, 0, 1, 1, 1, 1, 1, 1, 1, 0, 1, 1, 1, 1, 1, 0, 1, 1, 1, 1, 0, 1,\n       1, 1, 0, 1, 1, 1, 1, 1, 1, 1, 1, 1, 1, 1, 1, 1, 1, 1, 0, 1, 1, 1,\n       1, 1, 1, 1, 0, 1, 1, 1, 1, 0, 1, 1, 1, 1, 1, 1, 0, 1, 1, 1, 1, 1,\n       1, 1, 1, 0, 1, 1, 1, 1, 1, 1, 1, 1, 1, 1, 1, 1, 1, 1, 1, 1, 1, 1,\n       1, 1, 1, 1, 1, 1, 1, 1, 1, 1, 1, 1, 1, 1, 1, 1, 0, 1, 0, 0, 1, 1,\n       0, 1, 1, 1, 1, 1, 0, 0, 1, 1, 1, 1, 1])"
     },
     "metadata": {}
    }
   ]
  },
  {
   "cell_type": "code",
   "source": [
    "print(classification_report(y_test,gs_rf.predict(X_test)))"
   ],
   "metadata": {
    "execution": {
     "iopub.status.busy": "2024-02-26T13:06:45.544181Z",
     "iopub.execute_input": "2024-02-26T13:06:45.544660Z",
     "iopub.status.idle": "2024-02-26T13:06:45.578227Z",
     "shell.execute_reply.started": "2024-02-26T13:06:45.544623Z",
     "shell.execute_reply": "2024-02-26T13:06:45.577070Z"
    },
    "trusted": true
   },
   "execution_count": 90,
   "outputs": [
    {
     "name": "stdout",
     "text": "              precision    recall  f1-score   support\n\n           0       0.67      0.39      0.49        31\n           1       0.82      0.93      0.87        92\n\n    accuracy                           0.80       123\n   macro avg       0.74      0.66      0.68       123\nweighted avg       0.78      0.80      0.78       123\n\n",
     "output_type": "stream"
    }
   ]
  },
  {
   "cell_type": "code",
   "source": [
    "sns.heatmap(confusion_matrix(y_test,gs_rf.predict(X_test)),fmt='d',annot=True)\n",
    "plt.xlabel('Predicted')\n",
    "plt.ylabel('Truth')"
   ],
   "metadata": {
    "execution": {
     "iopub.status.busy": "2024-02-26T13:11:48.693697Z",
     "iopub.execute_input": "2024-02-26T13:11:48.694185Z",
     "iopub.status.idle": "2024-02-26T13:11:48.996727Z",
     "shell.execute_reply.started": "2024-02-26T13:11:48.694149Z",
     "shell.execute_reply": "2024-02-26T13:11:48.995501Z"
    },
    "trusted": true
   },
   "execution_count": 102,
   "outputs": [
    {
     "execution_count": 102,
     "output_type": "execute_result",
     "data": {
      "text/plain": "Text(50.722222222222214, 0.5, 'Truth')"
     },
     "metadata": {}
    },
    {
     "output_type": "display_data",
     "data": {
      "text/plain": "<Figure size 640x480 with 2 Axes>",
      "image/png": "[encoded data removed]"
     },
     "metadata": {}
    }
   ]
  },
  {
   "cell_type": "code",
   "source": [
    "gs_rf.best_params_"
   ],
   "metadata": {
    "execution": {
     "iopub.status.busy": "2024-02-26T13:06:49.644979Z",
     "iopub.execute_input": "2024-02-26T13:06:49.645661Z",
     "iopub.status.idle": "2024-02-26T13:06:49.653414Z",
     "shell.execute_reply.started": "2024-02-26T13:06:49.645627Z",
     "shell.execute_reply": "2024-02-26T13:06:49.652184Z"
    },
    "trusted": true
   },
   "execution_count": 91,
   "outputs": [
    {
     "execution_count": 91,
     "output_type": "execute_result",
     "data": {
      "text/plain": "{'n_estimators': 150}"
     },
     "metadata": {}
    }
   ]
  },
  {
   "cell_type": "code",
   "source": [
    "gs_rf.best_score_"
   ],
   "metadata": {
    "execution": {
     "iopub.status.busy": "2024-02-26T13:06:50.826670Z",
     "iopub.execute_input": "2024-02-26T13:06:50.827780Z",
     "iopub.status.idle": "2024-02-26T13:06:50.836863Z",
     "shell.execute_reply.started": "2024-02-26T13:06:50.827742Z",
     "shell.execute_reply": "2024-02-26T13:06:50.835526Z"
    },
    "trusted": true
   },
   "execution_count": 92,
   "outputs": [
    {
     "execution_count": 92,
     "output_type": "execute_result",
     "data": {
      "text/plain": "0.8023938572719059"
     },
     "metadata": {}
    }
   ]
  },
  {
   "cell_type": "code",
   "source": [
    "gs_svc=GridSearchCV(SVC(),{'kernel':('linear', 'poly', 'rbf', 'sigmoid'),\n",
    "                          'gamma':('scale','auto'),\n",
    "                          'C':(1,5,10)},cv=5).fit(X_train,y_train)\n"
   ],
   "metadata": {
    "execution": {
     "iopub.status.busy": "2024-02-26T13:06:59.427950Z",
     "iopub.execute_input": "2024-02-26T13:06:59.428407Z",
     "iopub.status.idle": "2024-02-26T13:07:01.213470Z",
     "shell.execute_reply.started": "2024-02-26T13:06:59.428375Z",
     "shell.execute_reply": "2024-02-26T13:07:01.212530Z"
    },
    "trusted": true
   },
   "execution_count": 93,
   "outputs": []
  },
  {
   "cell_type": "code",
   "source": [
    "print(classification_report(y_test,gs_svc.predict(X_test)))"
   ],
   "metadata": {
    "execution": {
     "iopub.status.busy": "2024-02-26T13:07:02.962734Z",
     "iopub.execute_input": "2024-02-26T13:07:02.963486Z",
     "iopub.status.idle": "2024-02-26T13:07:02.982540Z",
     "shell.execute_reply.started": "2024-02-26T13:07:02.963450Z",
     "shell.execute_reply": "2024-02-26T13:07:02.981333Z"
    },
    "trusted": true
   },
   "execution_count": 94,
   "outputs": [
    {
     "name": "stdout",
     "text": "              precision    recall  f1-score   support\n\n           0       0.92      0.39      0.55        31\n           1       0.83      0.99      0.90        92\n\n    accuracy                           0.84       123\n   macro avg       0.88      0.69      0.72       123\nweighted avg       0.85      0.84      0.81       123\n\n",
     "output_type": "stream"
    }
   ]
  },
  {
   "cell_type": "code",
   "source": [
    "sns.heatmap(confusion_matrix(y_test,gs_svc.predict(X_test)),fmt='d',annot=True)\n",
    "plt.xlabel('Predicted')\n",
    "plt.ylabel('Truth')"
   ],
   "metadata": {
    "execution": {
     "iopub.status.busy": "2024-02-26T13:08:37.938887Z",
     "iopub.execute_input": "2024-02-26T13:08:37.939720Z",
     "iopub.status.idle": "2024-02-26T13:08:38.223373Z",
     "shell.execute_reply.started": "2024-02-26T13:08:37.939680Z",
     "shell.execute_reply": "2024-02-26T13:08:38.222105Z"
    },
    "trusted": true
   },
   "execution_count": 101,
   "outputs": [
    {
     "execution_count": 101,
     "output_type": "execute_result",
     "data": {
      "text/plain": "Text(50.722222222222214, 0.5, 'Truth')"
     },
     "metadata": {}
    },
    {
     "output_type": "display_data",
     "data": {
      "text/plain": "<Figure size 640x480 with 2 Axes>",
      "image/png": "[encoded data removed]"
     },
     "metadata": {}
    }
   ]
  },
  {
   "cell_type": "code",
   "source": [
    "df=pd.DataFrame(gs_svc.cv_results_)\n"
   ],
   "metadata": {
    "execution": {
     "iopub.status.busy": "2024-02-26T13:05:43.677504Z",
     "iopub.execute_input": "2024-02-26T13:05:43.678612Z",
     "iopub.status.idle": "2024-02-26T13:05:43.685085Z",
     "shell.execute_reply.started": "2024-02-26T13:05:43.678577Z",
     "shell.execute_reply": "2024-02-26T13:05:43.683784Z"
    },
    "trusted": true
   },
   "execution_count": 84,
   "outputs": []
  },
  {
   "cell_type": "code",
   "source": [
    "df[['param_C','param_kernel','param_gamma','mean_test_score']].head(5)"
   ],
   "metadata": {
    "execution": {
     "iopub.status.busy": "2024-02-26T13:05:44.402609Z",
     "iopub.execute_input": "2024-02-26T13:05:44.403033Z",
     "iopub.status.idle": "2024-02-26T13:05:44.416610Z",
     "shell.execute_reply.started": "2024-02-26T13:05:44.402984Z",
     "shell.execute_reply": "2024-02-26T13:05:44.415650Z"
    },
    "trusted": true
   },
   "execution_count": 85,
   "outputs": [
    {
     "execution_count": 85,
     "output_type": "execute_result",
     "data": {
      "text/plain": "  param_C param_kernel param_gamma  mean_test_score\n0       1       linear       scale         0.802536\n1       1         poly       scale         0.790332\n2       1          rbf       scale         0.802536\n3       1      sigmoid       scale         0.676273\n4       1       linear        auto         0.802536",
      "text/html": "<div>\n<style scoped>\n    .dataframe tbody tr th:only-of-type {\n        vertical-align: middle;\n    }\n\n    .dataframe tbody tr th {\n        vertical-align: top;\n    }\n\n    .dataframe thead th {\n        text-align: right;\n    }\n</style>\n<table border=\"1\" class=\"dataframe\">\n  <thead>\n    <tr style=\"text-align: right;\">\n      <th></th>\n      <th>param_C</th>\n      <th>param_kernel</th>\n      <th>param_gamma</th>\n      <th>mean_test_score</th>\n    </tr>\n  </thead>\n  <tbody>\n    <tr>\n      <th>0</th>\n      <td>1</td>\n      <td>linear</td>\n      <td>scale</td>\n      <td>0.802536</td>\n    </tr>\n    <tr>\n      <th>1</th>\n      <td>1</td>\n      <td>poly</td>\n      <td>scale</td>\n      <td>0.790332</td>\n    </tr>\n    <tr>\n      <th>2</th>\n      <td>1</td>\n      <td>rbf</td>\n      <td>scale</td>\n      <td>0.802536</td>\n    </tr>\n    <tr>\n      <th>3</th>\n      <td>1</td>\n      <td>sigmoid</td>\n      <td>scale</td>\n      <td>0.676273</td>\n    </tr>\n    <tr>\n      <th>4</th>\n      <td>1</td>\n      <td>linear</td>\n      <td>auto</td>\n      <td>0.802536</td>\n    </tr>\n  </tbody>\n</table>\n</div>"
     },
     "metadata": {}
    }
   ]
  },
  {
   "cell_type": "code",
   "source": [
    "gs_svc.best_params_"
   ],
   "metadata": {
    "execution": {
     "iopub.status.busy": "2024-02-26T13:07:08.711440Z",
     "iopub.execute_input": "2024-02-26T13:07:08.711886Z",
     "iopub.status.idle": "2024-02-26T13:07:08.720272Z",
     "shell.execute_reply.started": "2024-02-26T13:07:08.711848Z",
     "shell.execute_reply": "2024-02-26T13:07:08.718678Z"
    },
    "trusted": true
   },
   "execution_count": 95,
   "outputs": [
    {
     "execution_count": 95,
     "output_type": "execute_result",
     "data": {
      "text/plain": "{'C': 1, 'gamma': 'scale', 'kernel': 'linear'}"
     },
     "metadata": {}
    }
   ]
  },
  {
   "cell_type": "code",
   "source": [
    "gs_svc.best_score_"
   ],
   "metadata": {
    "execution": {
     "iopub.status.busy": "2024-02-26T13:07:10.360188Z",
     "iopub.execute_input": "2024-02-26T13:07:10.360584Z",
     "iopub.status.idle": "2024-02-26T13:07:10.367906Z",
     "shell.execute_reply.started": "2024-02-26T13:07:10.360555Z",
     "shell.execute_reply": "2024-02-26T13:07:10.366616Z"
    },
    "trusted": true
   },
   "execution_count": 96,
   "outputs": [
    {
     "execution_count": 96,
     "output_type": "execute_result",
     "data": {
      "text/plain": "0.8025355596784168"
     },
     "metadata": {}
    }
   ]
  },
  {
   "cell_type": "code",
   "source": [
    "import pickle\n",
    "model_filepath = '/kaggle/working/model.pkl'\n",
    "\n",
    "with open(model_filepath, 'wb') as file:\n",
    "    pickle.dump(svc, file)\n",
    "\n",
    "print(f\"Model saved to {model_filepath}\")"
   ],
   "metadata": {
    "execution": {
     "iopub.status.busy": "2024-02-26T13:15:41.969762Z",
     "iopub.execute_input": "2024-02-26T13:15:41.970258Z",
     "iopub.status.idle": "2024-02-26T13:15:41.978770Z",
     "shell.execute_reply.started": "2024-02-26T13:15:41.970223Z",
     "shell.execute_reply": "2024-02-26T13:15:41.977272Z"
    },
    "trusted": true
   },
   "execution_count": 105,
   "outputs": [
    {
     "name": "stdout",
     "text": "Model saved to /kaggle/working/model.pkl\n",
     "output_type": "stream"
    }
   ]
  },
  {
   "cell_type": "markdown",
   "source": [
    "## Models Comparison"
   ],
   "metadata": {
    "collapsed": false
   }
  },
  {
   "cell_type": "code",
   "source": [
    "from sklearn.metrics import accuracy_score"
   ],
   "metadata": {
    "execution": {
     "iopub.status.busy": "2024-02-26T13:19:36.347905Z",
     "iopub.execute_input": "2024-02-26T13:19:36.348365Z",
     "iopub.status.idle": "2024-02-26T13:19:36.361136Z",
     "shell.execute_reply.started": "2024-02-26T13:19:36.348335Z",
     "shell.execute_reply": "2024-02-26T13:19:36.359703Z"
    },
    "trusted": true
   },
   "execution_count": 113,
   "outputs": [
    {
     "execution_count": 113,
     "output_type": "execute_result",
     "data": {
      "text/plain": "0.8373983739837398"
     },
     "metadata": {}
    }
   ]
  },
  {
   "cell_type": "code",
   "source": [
    "def calculate_and_display_accuracy(y_test, y_pred, model_name):\n",
    "    accuracy = accuracy_score(y_test, y_pred)\n",
    "    print(f\"Accuracy for {model_name}: {accuracy:.4f}\")\n",
    "\n",
    "model_names = ['DecisionTree', 'GaussianNB', 'LogisticRegression', 'RandomForest', 'SVC']\n",
    "y_pred_list = [y_pred,y_pred2,y_pred3,gs_rf.predict(X_test),y_pred5]  \n",
    "\n",
    "for i, model_name in enumerate(model_names):\n",
    "    y_pred = y_pred_list[i]\n",
    "    calculate_and_display_accuracy(y_test, y_pred, model_name)"
   ],
   "metadata": {
    "execution": {
     "iopub.status.busy": "2024-02-26T13:31:57.947624Z",
     "iopub.execute_input": "2024-02-26T13:31:57.948042Z",
     "iopub.status.idle": "2024-02-26T13:31:57.980584Z",
     "shell.execute_reply.started": "2024-02-26T13:31:57.948010Z",
     "shell.execute_reply": "2024-02-26T13:31:57.979231Z"
    },
    "trusted": true
   },
   "execution_count": 118,
   "outputs": [
    {
     "name": "stdout",
     "text": "Accuracy for DecisionTree: 0.8374\nAccuracy for GaussianNB: 0.8211\nAccuracy for LogisticRegression: 0.6992\nAccuracy for RandomForest: 0.7967\nAccuracy for SVC: 0.8374\n",
     "output_type": "stream"
    }
   ]
  },
  {
   "cell_type": "code",
   "source": [],
   "metadata": {},
   "execution_count": null,
   "outputs": []
  }
 ]
}
